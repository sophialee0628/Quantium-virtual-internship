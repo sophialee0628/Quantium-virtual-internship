{
  "nbformat": 4,
  "nbformat_minor": 0,
  "metadata": {
    "colab": {
      "name": "Quantium_task2.ipynb",
      "provenance": [],
      "collapsed_sections": [
        "NAyWQL6guzgY",
        "sykqrhxXufzp",
        "qxE1Vp9bw_3Y",
        "ApP28t97QaLk"
      ],
      "toc_visible": true
    },
    "kernelspec": {
      "name": "python3",
      "display_name": "Python 3"
    }
  },
  "cells": [
    {
      "cell_type": "code",
      "metadata": {
        "id": "jBtr3K9tQJjQ"
      },
      "source": [
        "import pandas as pd\n",
        "import re\n",
        "import numpy as np\n",
        "import openpyxl\n",
        "import seaborn as sns\n",
        "import matplotlib.pyplot as plt\n",
        "import plotly.express as px"
      ],
      "execution_count": null,
      "outputs": []
    },
    {
      "cell_type": "code",
      "metadata": {
        "id": "rhfn-Hiv4ohV",
        "colab": {
          "base_uri": "https://localhost:8080/"
        },
        "outputId": "9651b538-acc3-4f63-c923-2dc400961279"
      },
      "source": [
        "!git clone https://github.com/sophialee0628/Quantium-virtual-internship.git"
      ],
      "execution_count": null,
      "outputs": [
        {
          "output_type": "stream",
          "text": [
            "Cloning into 'Quantium-virtual-internship'...\n",
            "remote: Enumerating objects: 10, done.\u001b[K\n",
            "remote: Counting objects: 100% (10/10), done.\u001b[K\n",
            "remote: Compressing objects: 100% (9/9), done.\u001b[K\n",
            "remote: Total 10 (delta 2), reused 9 (delta 1), pack-reused 0\u001b[K\n",
            "Unpacking objects: 100% (10/10), done.\n"
          ],
          "name": "stdout"
        }
      ]
    },
    {
      "cell_type": "code",
      "metadata": {
        "colab": {
          "base_uri": "https://localhost:8080/"
        },
        "id": "1w_VSc4xPFSX",
        "outputId": "94c5121e-910c-4d30-b2ff-029a98b881e7"
      },
      "source": [
        "%cd /content/Quantium-virtual-internship/"
      ],
      "execution_count": null,
      "outputs": [
        {
          "output_type": "stream",
          "text": [
            "/content/Quantium-virtual-internship\n"
          ],
          "name": "stdout"
        }
      ]
    },
    {
      "cell_type": "code",
      "metadata": {
        "colab": {
          "base_uri": "https://localhost:8080/"
        },
        "id": "qgjhPk0bQBs-",
        "outputId": "d0e6f6fd-fd7e-464d-c586-53123e8caa3d"
      },
      "source": [
        "%ls"
      ],
      "execution_count": null,
      "outputs": [
        {
          "output_type": "stream",
          "text": [
            "EDA_task1.ipynb  QVI_purchase_behaviour.csv\n",
            "QVI_data.csv     QVI_transaction_data.xlsx\n"
          ],
          "name": "stdout"
        }
      ]
    },
    {
      "cell_type": "code",
      "metadata": {
        "id": "N7jUYg-zQDCI"
      },
      "source": [
        "data=pd.read_csv('QVI_data.csv')"
      ],
      "execution_count": null,
      "outputs": []
    },
    {
      "cell_type": "code",
      "metadata": {
        "id": "RWsIN_ORQMs6"
      },
      "source": [
        "# to use the dt. we have to preprocess data to pd.datetime\n",
        "data['DATE'] = pd.to_datetime(data['DATE'])\n",
        "data['YEARMONTH']=data['DATE'].dt.strftime('%Y%m').astype('int')"
      ],
      "execution_count": null,
      "outputs": []
    },
    {
      "cell_type": "code",
      "metadata": {
        "colab": {
          "base_uri": "https://localhost:8080/"
        },
        "id": "3M4fDUrnRNxq",
        "outputId": "cc625d60-86f8-4ef8-ae3d-21fec2778d24"
      },
      "source": [
        "data.info()"
      ],
      "execution_count": null,
      "outputs": [
        {
          "output_type": "stream",
          "text": [
            "<class 'pandas.core.frame.DataFrame'>\n",
            "RangeIndex: 264834 entries, 0 to 264833\n",
            "Data columns (total 13 columns):\n",
            " #   Column            Non-Null Count   Dtype         \n",
            "---  ------            --------------   -----         \n",
            " 0   LYLTY_CARD_NBR    264834 non-null  int64         \n",
            " 1   DATE              264834 non-null  datetime64[ns]\n",
            " 2   STORE_NBR         264834 non-null  int64         \n",
            " 3   TXN_ID            264834 non-null  int64         \n",
            " 4   PROD_NBR          264834 non-null  int64         \n",
            " 5   PROD_NAME         264834 non-null  object        \n",
            " 6   PROD_QTY          264834 non-null  int64         \n",
            " 7   TOT_SALES         264834 non-null  float64       \n",
            " 8   PACK_SIZE         264834 non-null  int64         \n",
            " 9   BRAND             264834 non-null  object        \n",
            " 10  LIFESTAGE         264834 non-null  object        \n",
            " 11  PREMIUM_CUSTOMER  264834 non-null  object        \n",
            " 12  YEARMONTH         264834 non-null  int64         \n",
            "dtypes: datetime64[ns](1), float64(1), int64(7), object(4)\n",
            "memory usage: 26.3+ MB\n"
          ],
          "name": "stdout"
        }
      ]
    },
    {
      "cell_type": "markdown",
      "metadata": {
        "id": "hnR6kbz8gg96"
      },
      "source": [
        "# Montly Analysis"
      ]
    },
    {
      "cell_type": "markdown",
      "metadata": {
        "id": "LBcrdfHLR29G"
      },
      "source": [
        "**Client's Trial stores : # 77, 86,88**\n",
        "- Compare Monthly data:\n",
        "1. overall sales revenue\n",
        "2. number of customers\n",
        "3. number of transactions per customer\n",
        "- Coefficent "
      ]
    },
    {
      "cell_type": "code",
      "metadata": {
        "id": "686mKSV9v8aZ"
      },
      "source": [
        "byMonthly=data.groupby(['STORE_NBR','YEARMONTH'])"
      ],
      "execution_count": null,
      "outputs": []
    },
    {
      "cell_type": "code",
      "metadata": {
        "id": "wGZR-_Ckitka"
      },
      "source": [
        "totSales=byMonthly[\"TOT_SALES\"].sum()\n",
        "nCus=byMonthly['LYLTY_CARD_NBR'].nunique()\n",
        "nTrx=byMonthly['TXN_ID'].count()\n",
        "Trx_per_Cust = nTrx/ nCus"
      ],
      "execution_count": null,
      "outputs": []
    },
    {
      "cell_type": "code",
      "metadata": {
        "id": "ksteXGsywZ1H"
      },
      "source": [
        "storeCompare = pd.concat([totSales,nCus,Trx_per_Cust], axis=1)\n",
        "storeCompare.columns = [\"TOT_SALES\", \"nCustomers\", \"nTxnPerCustomers\"]"
      ],
      "execution_count": null,
      "outputs": []
    },
    {
      "cell_type": "code",
      "metadata": {
        "id": "Tf32db98yNmT"
      },
      "source": [
        "storeCompare=storeCompare.reset_index()"
      ],
      "execution_count": null,
      "outputs": []
    },
    {
      "cell_type": "code",
      "metadata": {
        "colab": {
          "base_uri": "https://localhost:8080/",
          "height": 419
        },
        "id": "-mULaaFdUAdh",
        "outputId": "fa054d30-8c18-4ac7-fe1c-1befb7ab595c"
      },
      "source": [
        "storeCompare"
      ],
      "execution_count": null,
      "outputs": [
        {
          "output_type": "execute_result",
          "data": {
            "text/html": [
              "<div>\n",
              "<style scoped>\n",
              "    .dataframe tbody tr th:only-of-type {\n",
              "        vertical-align: middle;\n",
              "    }\n",
              "\n",
              "    .dataframe tbody tr th {\n",
              "        vertical-align: top;\n",
              "    }\n",
              "\n",
              "    .dataframe thead th {\n",
              "        text-align: right;\n",
              "    }\n",
              "</style>\n",
              "<table border=\"1\" class=\"dataframe\">\n",
              "  <thead>\n",
              "    <tr style=\"text-align: right;\">\n",
              "      <th></th>\n",
              "      <th>STORE_NBR</th>\n",
              "      <th>YEARMONTH</th>\n",
              "      <th>TOT_SALES</th>\n",
              "      <th>nCustomers</th>\n",
              "      <th>nTxnPerCustomers</th>\n",
              "    </tr>\n",
              "  </thead>\n",
              "  <tbody>\n",
              "    <tr>\n",
              "      <th>0</th>\n",
              "      <td>1</td>\n",
              "      <td>201807</td>\n",
              "      <td>206.9</td>\n",
              "      <td>49</td>\n",
              "      <td>1.061224</td>\n",
              "    </tr>\n",
              "    <tr>\n",
              "      <th>1</th>\n",
              "      <td>1</td>\n",
              "      <td>201808</td>\n",
              "      <td>176.1</td>\n",
              "      <td>42</td>\n",
              "      <td>1.023810</td>\n",
              "    </tr>\n",
              "    <tr>\n",
              "      <th>2</th>\n",
              "      <td>1</td>\n",
              "      <td>201809</td>\n",
              "      <td>278.8</td>\n",
              "      <td>59</td>\n",
              "      <td>1.050847</td>\n",
              "    </tr>\n",
              "    <tr>\n",
              "      <th>3</th>\n",
              "      <td>1</td>\n",
              "      <td>201810</td>\n",
              "      <td>188.1</td>\n",
              "      <td>44</td>\n",
              "      <td>1.022727</td>\n",
              "    </tr>\n",
              "    <tr>\n",
              "      <th>4</th>\n",
              "      <td>1</td>\n",
              "      <td>201811</td>\n",
              "      <td>192.6</td>\n",
              "      <td>46</td>\n",
              "      <td>1.021739</td>\n",
              "    </tr>\n",
              "    <tr>\n",
              "      <th>...</th>\n",
              "      <td>...</td>\n",
              "      <td>...</td>\n",
              "      <td>...</td>\n",
              "      <td>...</td>\n",
              "      <td>...</td>\n",
              "    </tr>\n",
              "    <tr>\n",
              "      <th>3164</th>\n",
              "      <td>272</td>\n",
              "      <td>201902</td>\n",
              "      <td>395.5</td>\n",
              "      <td>45</td>\n",
              "      <td>1.066667</td>\n",
              "    </tr>\n",
              "    <tr>\n",
              "      <th>3165</th>\n",
              "      <td>272</td>\n",
              "      <td>201903</td>\n",
              "      <td>442.3</td>\n",
              "      <td>50</td>\n",
              "      <td>1.060000</td>\n",
              "    </tr>\n",
              "    <tr>\n",
              "      <th>3166</th>\n",
              "      <td>272</td>\n",
              "      <td>201904</td>\n",
              "      <td>445.1</td>\n",
              "      <td>54</td>\n",
              "      <td>1.037037</td>\n",
              "    </tr>\n",
              "    <tr>\n",
              "      <th>3167</th>\n",
              "      <td>272</td>\n",
              "      <td>201905</td>\n",
              "      <td>314.6</td>\n",
              "      <td>34</td>\n",
              "      <td>1.176471</td>\n",
              "    </tr>\n",
              "    <tr>\n",
              "      <th>3168</th>\n",
              "      <td>272</td>\n",
              "      <td>201906</td>\n",
              "      <td>312.1</td>\n",
              "      <td>34</td>\n",
              "      <td>1.088235</td>\n",
              "    </tr>\n",
              "  </tbody>\n",
              "</table>\n",
              "<p>3169 rows × 5 columns</p>\n",
              "</div>"
            ],
            "text/plain": [
              "      STORE_NBR  YEARMONTH  TOT_SALES  nCustomers  nTxnPerCustomers\n",
              "0             1     201807      206.9          49          1.061224\n",
              "1             1     201808      176.1          42          1.023810\n",
              "2             1     201809      278.8          59          1.050847\n",
              "3             1     201810      188.1          44          1.022727\n",
              "4             1     201811      192.6          46          1.021739\n",
              "...         ...        ...        ...         ...               ...\n",
              "3164        272     201902      395.5          45          1.066667\n",
              "3165        272     201903      442.3          50          1.060000\n",
              "3166        272     201904      445.1          54          1.037037\n",
              "3167        272     201905      314.6          34          1.176471\n",
              "3168        272     201906      312.1          34          1.088235\n",
              "\n",
              "[3169 rows x 5 columns]"
            ]
          },
          "metadata": {
            "tags": []
          },
          "execution_count": 57
        }
      ]
    },
    {
      "cell_type": "markdown",
      "metadata": {
        "id": "NAyWQL6guzgY"
      },
      "source": [
        "# Make preTrial"
      ]
    },
    {
      "cell_type": "code",
      "metadata": {
        "id": "Tl2pHeomMMPp"
      },
      "source": [
        "observ_months = storeCompare[\"STORE_NBR\"].value_counts()\n",
        "full_observ_index = observ_months[observ_months == 12].index\n",
        "full_observ = storeCompare[storeCompare[\"STORE_NBR\"].isin(full_observ_index)]\n",
        "preTrial = full_observ[full_observ[\"YEARMONTH\"] < 201902]"
      ],
      "execution_count": null,
      "outputs": []
    },
    {
      "cell_type": "code",
      "metadata": {
        "colab": {
          "base_uri": "https://localhost:8080/",
          "height": 419
        },
        "id": "4U7dJodIMi7P",
        "outputId": "8457557c-9f27-4ef1-fb3e-a2f631713154"
      },
      "source": [
        "preTrial"
      ],
      "execution_count": null,
      "outputs": [
        {
          "output_type": "execute_result",
          "data": {
            "text/html": [
              "<div>\n",
              "<style scoped>\n",
              "    .dataframe tbody tr th:only-of-type {\n",
              "        vertical-align: middle;\n",
              "    }\n",
              "\n",
              "    .dataframe tbody tr th {\n",
              "        vertical-align: top;\n",
              "    }\n",
              "\n",
              "    .dataframe thead th {\n",
              "        text-align: right;\n",
              "    }\n",
              "</style>\n",
              "<table border=\"1\" class=\"dataframe\">\n",
              "  <thead>\n",
              "    <tr style=\"text-align: right;\">\n",
              "      <th></th>\n",
              "      <th>STORE_NBR</th>\n",
              "      <th>YEARMONTH</th>\n",
              "      <th>TOT_SALES</th>\n",
              "      <th>nCustomers</th>\n",
              "      <th>nTxnPerCustomers</th>\n",
              "    </tr>\n",
              "  </thead>\n",
              "  <tbody>\n",
              "    <tr>\n",
              "      <th>0</th>\n",
              "      <td>1</td>\n",
              "      <td>201807</td>\n",
              "      <td>206.9</td>\n",
              "      <td>49</td>\n",
              "      <td>1.061224</td>\n",
              "    </tr>\n",
              "    <tr>\n",
              "      <th>1</th>\n",
              "      <td>1</td>\n",
              "      <td>201808</td>\n",
              "      <td>176.1</td>\n",
              "      <td>42</td>\n",
              "      <td>1.023810</td>\n",
              "    </tr>\n",
              "    <tr>\n",
              "      <th>2</th>\n",
              "      <td>1</td>\n",
              "      <td>201809</td>\n",
              "      <td>278.8</td>\n",
              "      <td>59</td>\n",
              "      <td>1.050847</td>\n",
              "    </tr>\n",
              "    <tr>\n",
              "      <th>3</th>\n",
              "      <td>1</td>\n",
              "      <td>201810</td>\n",
              "      <td>188.1</td>\n",
              "      <td>44</td>\n",
              "      <td>1.022727</td>\n",
              "    </tr>\n",
              "    <tr>\n",
              "      <th>4</th>\n",
              "      <td>1</td>\n",
              "      <td>201811</td>\n",
              "      <td>192.6</td>\n",
              "      <td>46</td>\n",
              "      <td>1.021739</td>\n",
              "    </tr>\n",
              "    <tr>\n",
              "      <th>...</th>\n",
              "      <td>...</td>\n",
              "      <td>...</td>\n",
              "      <td>...</td>\n",
              "      <td>...</td>\n",
              "      <td>...</td>\n",
              "    </tr>\n",
              "    <tr>\n",
              "      <th>3159</th>\n",
              "      <td>272</td>\n",
              "      <td>201809</td>\n",
              "      <td>304.7</td>\n",
              "      <td>32</td>\n",
              "      <td>1.125000</td>\n",
              "    </tr>\n",
              "    <tr>\n",
              "      <th>3160</th>\n",
              "      <td>272</td>\n",
              "      <td>201810</td>\n",
              "      <td>430.6</td>\n",
              "      <td>44</td>\n",
              "      <td>1.159091</td>\n",
              "    </tr>\n",
              "    <tr>\n",
              "      <th>3161</th>\n",
              "      <td>272</td>\n",
              "      <td>201811</td>\n",
              "      <td>376.2</td>\n",
              "      <td>41</td>\n",
              "      <td>1.097561</td>\n",
              "    </tr>\n",
              "    <tr>\n",
              "      <th>3162</th>\n",
              "      <td>272</td>\n",
              "      <td>201812</td>\n",
              "      <td>403.9</td>\n",
              "      <td>47</td>\n",
              "      <td>1.000000</td>\n",
              "    </tr>\n",
              "    <tr>\n",
              "      <th>3163</th>\n",
              "      <td>272</td>\n",
              "      <td>201901</td>\n",
              "      <td>423.0</td>\n",
              "      <td>46</td>\n",
              "      <td>1.086957</td>\n",
              "    </tr>\n",
              "  </tbody>\n",
              "</table>\n",
              "<p>1820 rows × 5 columns</p>\n",
              "</div>"
            ],
            "text/plain": [
              "      STORE_NBR  YEARMONTH  TOT_SALES  nCustomers  nTxnPerCustomers\n",
              "0             1     201807      206.9          49          1.061224\n",
              "1             1     201808      176.1          42          1.023810\n",
              "2             1     201809      278.8          59          1.050847\n",
              "3             1     201810      188.1          44          1.022727\n",
              "4             1     201811      192.6          46          1.021739\n",
              "...         ...        ...        ...         ...               ...\n",
              "3159        272     201809      304.7          32          1.125000\n",
              "3160        272     201810      430.6          44          1.159091\n",
              "3161        272     201811      376.2          41          1.097561\n",
              "3162        272     201812      403.9          47          1.000000\n",
              "3163        272     201901      423.0          46          1.086957\n",
              "\n",
              "[1820 rows x 5 columns]"
            ]
          },
          "metadata": {
            "tags": []
          },
          "execution_count": 59
        }
      ]
    },
    {
      "cell_type": "markdown",
      "metadata": {
        "id": "sykqrhxXufzp"
      },
      "source": [
        "# Get correlation table"
      ]
    },
    {
      "cell_type": "code",
      "metadata": {
        "id": "hAbZt9tZul6y"
      },
      "source": [
        "def calcCorrTable(metricCol, storeComparison, inputTable=preTrial):\n",
        "    \"\"\"Calculate correlation for a measure, looping through each control store.\n",
        "    Args:\n",
        "        metricCol (str): Name of column containing store's metric to perform correlation test on.\n",
        "        storeComparison (int): Trial store's number.\n",
        "        inputTable (dataframe):  Metric table with potential comparison stores.\n",
        "        \n",
        "    Returns:\n",
        "        DataFrame: Monthly correlation table between Trial and each Control stores.\n",
        "    \"\"\"\n",
        "    control_store_nbrs = inputTable[~inputTable[\"STORE_NBR\"].isin([77, 86, 88])][\"STORE_NBR\"].unique()\n",
        "    corrs = pd.DataFrame(columns = [\"YEARMONTH\", \"Trial_Str\", \"Control_Str\", \"Corr_Score\"])\n",
        "    trial_store = inputTable[inputTable[\"STORE_NBR\"] == storeComparison][metricCol].reset_index()\n",
        "    for control in control_store_nbrs:\n",
        "        concat_df = pd.DataFrame(columns = [\"YEARMONTH\", \"Trial_Str\", \"Control_Str\", \"Corr_Score\"])\n",
        "        control_store = inputTable[inputTable[\"STORE_NBR\"] == control][metricCol].reset_index()\n",
        "        concat_df[\"Corr_Score\"] = trial_store.corrwith(control_store, axis=1)\n",
        "        concat_df[\"Trial_Str\"] = storeComparison\n",
        "        concat_df[\"Control_Str\"] = control\n",
        "        concat_df[\"YEARMONTH\"] = list(inputTable[inputTable[\"STORE_NBR\"] == storeComparison][\"YEARMONTH\"])\n",
        "        corrs = pd.concat([corrs, concat_df])\n",
        "    return corrs"
      ],
      "execution_count": null,
      "outputs": []
    },
    {
      "cell_type": "code",
      "metadata": {
        "id": "uCiRhayOvV0M"
      },
      "source": [
        "corr_table = pd.DataFrame()\n",
        "for trial_num in [77, 86, 88]:\n",
        "    corr_table = pd.concat([corr_table, calcCorrTable([\"TOT_SALES\", \"nCustomers\", \"nTxnPerCustomers\"], trial_num)])"
      ],
      "execution_count": null,
      "outputs": []
    },
    {
      "cell_type": "code",
      "metadata": {
        "colab": {
          "base_uri": "https://localhost:8080/"
        },
        "id": "nKkCQrPZvoOk",
        "outputId": "50ee4caa-02be-42be-8f0f-4d1fb9955293"
      },
      "source": [
        "corr_table"
      ],
      "execution_count": null,
      "outputs": [
        {
          "output_type": "execute_result",
          "data": {
            "text/html": [
              "<div>\n",
              "<style scoped>\n",
              "    .dataframe tbody tr th:only-of-type {\n",
              "        vertical-align: middle;\n",
              "    }\n",
              "\n",
              "    .dataframe tbody tr th {\n",
              "        vertical-align: top;\n",
              "    }\n",
              "\n",
              "    .dataframe thead th {\n",
              "        text-align: right;\n",
              "    }\n",
              "</style>\n",
              "<table border=\"1\" class=\"dataframe\">\n",
              "  <thead>\n",
              "    <tr style=\"text-align: right;\">\n",
              "      <th></th>\n",
              "      <th>YEARMONTH</th>\n",
              "      <th>Trial_Str</th>\n",
              "      <th>Control_Str</th>\n",
              "      <th>Corr_Score</th>\n",
              "    </tr>\n",
              "  </thead>\n",
              "  <tbody>\n",
              "    <tr>\n",
              "      <th>0</th>\n",
              "      <td>201807</td>\n",
              "      <td>77</td>\n",
              "      <td>1</td>\n",
              "      <td>-0.127100</td>\n",
              "    </tr>\n",
              "    <tr>\n",
              "      <th>1</th>\n",
              "      <td>201808</td>\n",
              "      <td>77</td>\n",
              "      <td>1</td>\n",
              "      <td>-0.171779</td>\n",
              "    </tr>\n",
              "    <tr>\n",
              "      <th>2</th>\n",
              "      <td>201809</td>\n",
              "      <td>77</td>\n",
              "      <td>1</td>\n",
              "      <td>-0.191927</td>\n",
              "    </tr>\n",
              "    <tr>\n",
              "      <th>3</th>\n",
              "      <td>201810</td>\n",
              "      <td>77</td>\n",
              "      <td>1</td>\n",
              "      <td>-0.217780</td>\n",
              "    </tr>\n",
              "    <tr>\n",
              "      <th>4</th>\n",
              "      <td>201811</td>\n",
              "      <td>77</td>\n",
              "      <td>1</td>\n",
              "      <td>-0.169064</td>\n",
              "    </tr>\n",
              "    <tr>\n",
              "      <th>...</th>\n",
              "      <td>...</td>\n",
              "      <td>...</td>\n",
              "      <td>...</td>\n",
              "      <td>...</td>\n",
              "    </tr>\n",
              "    <tr>\n",
              "      <th>2</th>\n",
              "      <td>201809</td>\n",
              "      <td>88</td>\n",
              "      <td>272</td>\n",
              "      <td>0.435983</td>\n",
              "    </tr>\n",
              "    <tr>\n",
              "      <th>3</th>\n",
              "      <td>201810</td>\n",
              "      <td>88</td>\n",
              "      <td>272</td>\n",
              "      <td>0.501235</td>\n",
              "    </tr>\n",
              "    <tr>\n",
              "      <th>4</th>\n",
              "      <td>201811</td>\n",
              "      <td>88</td>\n",
              "      <td>272</td>\n",
              "      <td>0.472945</td>\n",
              "    </tr>\n",
              "    <tr>\n",
              "      <th>5</th>\n",
              "      <td>201812</td>\n",
              "      <td>88</td>\n",
              "      <td>272</td>\n",
              "      <td>0.506498</td>\n",
              "    </tr>\n",
              "    <tr>\n",
              "      <th>6</th>\n",
              "      <td>201901</td>\n",
              "      <td>88</td>\n",
              "      <td>272</td>\n",
              "      <td>0.540250</td>\n",
              "    </tr>\n",
              "  </tbody>\n",
              "</table>\n",
              "<p>5397 rows × 4 columns</p>\n",
              "</div>"
            ],
            "text/plain": [
              "   YEARMONTH Trial_Str Control_Str  Corr_Score\n",
              "0     201807        77           1   -0.127100\n",
              "1     201808        77           1   -0.171779\n",
              "2     201809        77           1   -0.191927\n",
              "3     201810        77           1   -0.217780\n",
              "4     201811        77           1   -0.169064\n",
              "..       ...       ...         ...         ...\n",
              "2     201809        88         272    0.435983\n",
              "3     201810        88         272    0.501235\n",
              "4     201811        88         272    0.472945\n",
              "5     201812        88         272    0.506498\n",
              "6     201901        88         272    0.540250\n",
              "\n",
              "[5397 rows x 4 columns]"
            ]
          },
          "metadata": {
            "tags": []
          },
          "execution_count": 62
        }
      ]
    },
    {
      "cell_type": "markdown",
      "metadata": {
        "id": "qxE1Vp9bw_3Y"
      },
      "source": [
        "# Calculate Distance"
      ]
    },
    {
      "cell_type": "code",
      "metadata": {
        "id": "zOq43aoexCFB"
      },
      "source": [
        "def calculateMagnitudeDistance(metricCol, storeComparison, inputTable=preTrial):\n",
        "    \"\"\"Calculate standardised magnitude distance for a measure, looping through each control store.\n",
        "    Args:\n",
        "        metricCol (str): Name of column containing store's metric to perform distance calculation on.\n",
        "        storeComparison (int): Trial store's number.\n",
        "        inputTable (dataframe):  Metric table with potential comparison stores.\n",
        "        \n",
        "    Returns:\n",
        "        DataFrame: Monthly magnitude-distance table between Trial and each Control stores.\n",
        "    \"\"\"\n",
        "    control_store_nbrs = inputTable[~inputTable[\"STORE_NBR\"].isin([77, 86, 88])][\"STORE_NBR\"].unique()\n",
        "    dists = pd.DataFrame()\n",
        "    trial_store = inputTable[inputTable[\"STORE_NBR\"] == storeComparison][metricCol]\n",
        "    for control in control_store_nbrs:\n",
        "        concat_df  = abs(inputTable[inputTable[\"STORE_NBR\"] == storeComparison].reset_index()[metricCol] - inputTable[inputTable[\"STORE_NBR\"] == control].reset_index()[metricCol])\n",
        "        concat_df[\"YEARMONTH\"] = list(inputTable[inputTable[\"STORE_NBR\"] == storeComparison][\"YEARMONTH\"])\n",
        "        concat_df[\"Trial_Str\"] = storeComparison\n",
        "        concat_df[\"Control_Str\"] = control\n",
        "        dists = pd.concat([dists, concat_df])\n",
        "    for col in metricCol:\n",
        "        dists[col] = 1 - ((dists[col] - dists[col].min()) / (dists[col].max() - dists[col].min()))\n",
        "    dists[\"magnitude\"] = dists[metricCol].mean(axis=1)\n",
        "    return dists"
      ],
      "execution_count": null,
      "outputs": []
    },
    {
      "cell_type": "code",
      "metadata": {
        "id": "qOMMPA7rxHbI"
      },
      "source": [
        "dist_table = pd.DataFrame()\n",
        "for trial_num in [77, 86, 88]:\n",
        "    dist_table = pd.concat([dist_table, calculateMagnitudeDistance([\"TOT_SALES\", \"nCustomers\", \"nTxnPerCustomers\"], trial_num)])"
      ],
      "execution_count": null,
      "outputs": []
    },
    {
      "cell_type": "code",
      "metadata": {
        "colab": {
          "base_uri": "https://localhost:8080/"
        },
        "id": "HaZOjNvOxNHK",
        "outputId": "6c574c3b-55b4-4ce4-8e16-8df6c3176098"
      },
      "source": [
        "dist_table"
      ],
      "execution_count": null,
      "outputs": [
        {
          "output_type": "execute_result",
          "data": {
            "text/html": [
              "<div>\n",
              "<style scoped>\n",
              "    .dataframe tbody tr th:only-of-type {\n",
              "        vertical-align: middle;\n",
              "    }\n",
              "\n",
              "    .dataframe tbody tr th {\n",
              "        vertical-align: top;\n",
              "    }\n",
              "\n",
              "    .dataframe thead th {\n",
              "        text-align: right;\n",
              "    }\n",
              "</style>\n",
              "<table border=\"1\" class=\"dataframe\">\n",
              "  <thead>\n",
              "    <tr style=\"text-align: right;\">\n",
              "      <th></th>\n",
              "      <th>TOT_SALES</th>\n",
              "      <th>nCustomers</th>\n",
              "      <th>nTxnPerCustomers</th>\n",
              "      <th>YEARMONTH</th>\n",
              "      <th>Trial_Str</th>\n",
              "      <th>Control_Str</th>\n",
              "      <th>magnitude</th>\n",
              "    </tr>\n",
              "  </thead>\n",
              "  <tbody>\n",
              "    <tr>\n",
              "      <th>0</th>\n",
              "      <td>0.935431</td>\n",
              "      <td>0.980769</td>\n",
              "      <td>0.958035</td>\n",
              "      <td>201807</td>\n",
              "      <td>77</td>\n",
              "      <td>1</td>\n",
              "      <td>0.958078</td>\n",
              "    </tr>\n",
              "    <tr>\n",
              "      <th>1</th>\n",
              "      <td>0.942972</td>\n",
              "      <td>0.951923</td>\n",
              "      <td>0.993823</td>\n",
              "      <td>201808</td>\n",
              "      <td>77</td>\n",
              "      <td>1</td>\n",
              "      <td>0.962906</td>\n",
              "    </tr>\n",
              "    <tr>\n",
              "      <th>2</th>\n",
              "      <td>0.961503</td>\n",
              "      <td>0.836538</td>\n",
              "      <td>0.992126</td>\n",
              "      <td>201809</td>\n",
              "      <td>77</td>\n",
              "      <td>1</td>\n",
              "      <td>0.930056</td>\n",
              "    </tr>\n",
              "    <tr>\n",
              "      <th>3</th>\n",
              "      <td>0.988221</td>\n",
              "      <td>0.932692</td>\n",
              "      <td>0.989514</td>\n",
              "      <td>201810</td>\n",
              "      <td>77</td>\n",
              "      <td>1</td>\n",
              "      <td>0.970142</td>\n",
              "    </tr>\n",
              "    <tr>\n",
              "      <th>4</th>\n",
              "      <td>0.962149</td>\n",
              "      <td>0.951923</td>\n",
              "      <td>0.874566</td>\n",
              "      <td>201811</td>\n",
              "      <td>77</td>\n",
              "      <td>1</td>\n",
              "      <td>0.929546</td>\n",
              "    </tr>\n",
              "    <tr>\n",
              "      <th>...</th>\n",
              "      <td>...</td>\n",
              "      <td>...</td>\n",
              "      <td>...</td>\n",
              "      <td>...</td>\n",
              "      <td>...</td>\n",
              "      <td>...</td>\n",
              "      <td>...</td>\n",
              "    </tr>\n",
              "    <tr>\n",
              "      <th>2</th>\n",
              "      <td>0.207554</td>\n",
              "      <td>0.286822</td>\n",
              "      <td>0.462846</td>\n",
              "      <td>201809</td>\n",
              "      <td>88</td>\n",
              "      <td>272</td>\n",
              "      <td>0.319074</td>\n",
              "    </tr>\n",
              "    <tr>\n",
              "      <th>3</th>\n",
              "      <td>0.346797</td>\n",
              "      <td>0.387597</td>\n",
              "      <td>0.571497</td>\n",
              "      <td>201810</td>\n",
              "      <td>88</td>\n",
              "      <td>272</td>\n",
              "      <td>0.435297</td>\n",
              "    </tr>\n",
              "    <tr>\n",
              "      <th>4</th>\n",
              "      <td>0.286706</td>\n",
              "      <td>0.310078</td>\n",
              "      <td>0.623883</td>\n",
              "      <td>201811</td>\n",
              "      <td>88</td>\n",
              "      <td>272</td>\n",
              "      <td>0.406889</td>\n",
              "    </tr>\n",
              "    <tr>\n",
              "      <th>5</th>\n",
              "      <td>0.347151</td>\n",
              "      <td>0.387597</td>\n",
              "      <td>0.376456</td>\n",
              "      <td>201812</td>\n",
              "      <td>88</td>\n",
              "      <td>272</td>\n",
              "      <td>0.370402</td>\n",
              "    </tr>\n",
              "    <tr>\n",
              "      <th>6</th>\n",
              "      <td>0.402353</td>\n",
              "      <td>0.449612</td>\n",
              "      <td>0.450378</td>\n",
              "      <td>201901</td>\n",
              "      <td>88</td>\n",
              "      <td>272</td>\n",
              "      <td>0.434114</td>\n",
              "    </tr>\n",
              "  </tbody>\n",
              "</table>\n",
              "<p>5397 rows × 7 columns</p>\n",
              "</div>"
            ],
            "text/plain": [
              "    TOT_SALES  nCustomers  nTxnPerCustomers  ...  Trial_Str  Control_Str  magnitude\n",
              "0    0.935431    0.980769          0.958035  ...         77            1   0.958078\n",
              "1    0.942972    0.951923          0.993823  ...         77            1   0.962906\n",
              "2    0.961503    0.836538          0.992126  ...         77            1   0.930056\n",
              "3    0.988221    0.932692          0.989514  ...         77            1   0.970142\n",
              "4    0.962149    0.951923          0.874566  ...         77            1   0.929546\n",
              "..        ...         ...               ...  ...        ...          ...        ...\n",
              "2    0.207554    0.286822          0.462846  ...         88          272   0.319074\n",
              "3    0.346797    0.387597          0.571497  ...         88          272   0.435297\n",
              "4    0.286706    0.310078          0.623883  ...         88          272   0.406889\n",
              "5    0.347151    0.387597          0.376456  ...         88          272   0.370402\n",
              "6    0.402353    0.449612          0.450378  ...         88          272   0.434114\n",
              "\n",
              "[5397 rows x 7 columns]"
            ]
          },
          "metadata": {
            "tags": []
          },
          "execution_count": 65
        }
      ]
    },
    {
      "cell_type": "markdown",
      "metadata": {
        "id": "W0miacSKxRMn"
      },
      "source": [
        "# Combine Correalation and Distance"
      ]
    },
    {
      "cell_type": "code",
      "metadata": {
        "id": "eL4J4X1fxV_G"
      },
      "source": [
        "def combine_corr_dist(metricCol, storeComparison, inputTable=preTrial):\n",
        "    corrs = calcCorrTable(metricCol, storeComparison, inputTable)\n",
        "    dists = calculateMagnitudeDistance(metricCol, storeComparison, inputTable)\n",
        "    dists = dists.drop(metricCol, axis=1)\n",
        "    combine = pd.merge(corrs, dists, on=[\"YEARMONTH\", \"Trial_Str\", \"Control_Str\"])\n",
        "    return combine"
      ],
      "execution_count": null,
      "outputs": []
    },
    {
      "cell_type": "code",
      "metadata": {
        "id": "qyuZ70DWxbLy"
      },
      "source": [
        "compare_metrics_table1 = pd.DataFrame()\n",
        "for trial_num in [77, 86, 88]:\n",
        "    compare_metrics_table1 = pd.concat([compare_metrics_table1, combine_corr_dist([\"TOT_SALES\"], trial_num)])"
      ],
      "execution_count": null,
      "outputs": []
    },
    {
      "cell_type": "code",
      "metadata": {
        "colab": {
          "base_uri": "https://localhost:8080/",
          "height": 419
        },
        "id": "AwE9QgMFhx-L",
        "outputId": "787d5f87-f94e-489f-e02f-81b210350fde"
      },
      "source": [
        "compare_metrics_table1"
      ],
      "execution_count": null,
      "outputs": [
        {
          "output_type": "execute_result",
          "data": {
            "text/html": [
              "<div>\n",
              "<style scoped>\n",
              "    .dataframe tbody tr th:only-of-type {\n",
              "        vertical-align: middle;\n",
              "    }\n",
              "\n",
              "    .dataframe tbody tr th {\n",
              "        vertical-align: top;\n",
              "    }\n",
              "\n",
              "    .dataframe thead th {\n",
              "        text-align: right;\n",
              "    }\n",
              "</style>\n",
              "<table border=\"1\" class=\"dataframe\">\n",
              "  <thead>\n",
              "    <tr style=\"text-align: right;\">\n",
              "      <th></th>\n",
              "      <th>YEARMONTH</th>\n",
              "      <th>Trial_Str</th>\n",
              "      <th>Control_Str</th>\n",
              "      <th>Corr_Score</th>\n",
              "      <th>magnitude</th>\n",
              "    </tr>\n",
              "  </thead>\n",
              "  <tbody>\n",
              "    <tr>\n",
              "      <th>0</th>\n",
              "      <td>201807</td>\n",
              "      <td>77</td>\n",
              "      <td>1</td>\n",
              "      <td>-1.0</td>\n",
              "      <td>0.935431</td>\n",
              "    </tr>\n",
              "    <tr>\n",
              "      <th>1</th>\n",
              "      <td>201808</td>\n",
              "      <td>77</td>\n",
              "      <td>1</td>\n",
              "      <td>-1.0</td>\n",
              "      <td>0.942972</td>\n",
              "    </tr>\n",
              "    <tr>\n",
              "      <th>2</th>\n",
              "      <td>201809</td>\n",
              "      <td>77</td>\n",
              "      <td>1</td>\n",
              "      <td>-1.0</td>\n",
              "      <td>0.961503</td>\n",
              "    </tr>\n",
              "    <tr>\n",
              "      <th>3</th>\n",
              "      <td>201810</td>\n",
              "      <td>77</td>\n",
              "      <td>1</td>\n",
              "      <td>-1.0</td>\n",
              "      <td>0.988221</td>\n",
              "    </tr>\n",
              "    <tr>\n",
              "      <th>4</th>\n",
              "      <td>201811</td>\n",
              "      <td>77</td>\n",
              "      <td>1</td>\n",
              "      <td>-1.0</td>\n",
              "      <td>0.962149</td>\n",
              "    </tr>\n",
              "    <tr>\n",
              "      <th>...</th>\n",
              "      <td>...</td>\n",
              "      <td>...</td>\n",
              "      <td>...</td>\n",
              "      <td>...</td>\n",
              "      <td>...</td>\n",
              "    </tr>\n",
              "    <tr>\n",
              "      <th>1794</th>\n",
              "      <td>201809</td>\n",
              "      <td>88</td>\n",
              "      <td>272</td>\n",
              "      <td>-1.0</td>\n",
              "      <td>0.207554</td>\n",
              "    </tr>\n",
              "    <tr>\n",
              "      <th>1795</th>\n",
              "      <td>201810</td>\n",
              "      <td>88</td>\n",
              "      <td>272</td>\n",
              "      <td>-1.0</td>\n",
              "      <td>0.346797</td>\n",
              "    </tr>\n",
              "    <tr>\n",
              "      <th>1796</th>\n",
              "      <td>201811</td>\n",
              "      <td>88</td>\n",
              "      <td>272</td>\n",
              "      <td>-1.0</td>\n",
              "      <td>0.286706</td>\n",
              "    </tr>\n",
              "    <tr>\n",
              "      <th>1797</th>\n",
              "      <td>201812</td>\n",
              "      <td>88</td>\n",
              "      <td>272</td>\n",
              "      <td>-1.0</td>\n",
              "      <td>0.347151</td>\n",
              "    </tr>\n",
              "    <tr>\n",
              "      <th>1798</th>\n",
              "      <td>201901</td>\n",
              "      <td>88</td>\n",
              "      <td>272</td>\n",
              "      <td>-1.0</td>\n",
              "      <td>0.402353</td>\n",
              "    </tr>\n",
              "  </tbody>\n",
              "</table>\n",
              "<p>5397 rows × 5 columns</p>\n",
              "</div>"
            ],
            "text/plain": [
              "     YEARMONTH Trial_Str Control_Str  Corr_Score  magnitude\n",
              "0       201807        77           1        -1.0   0.935431\n",
              "1       201808        77           1        -1.0   0.942972\n",
              "2       201809        77           1        -1.0   0.961503\n",
              "3       201810        77           1        -1.0   0.988221\n",
              "4       201811        77           1        -1.0   0.962149\n",
              "...        ...       ...         ...         ...        ...\n",
              "1794    201809        88         272        -1.0   0.207554\n",
              "1795    201810        88         272        -1.0   0.346797\n",
              "1796    201811        88         272        -1.0   0.286706\n",
              "1797    201812        88         272        -1.0   0.347151\n",
              "1798    201901        88         272        -1.0   0.402353\n",
              "\n",
              "[5397 rows x 5 columns]"
            ]
          },
          "metadata": {
            "tags": []
          },
          "execution_count": 83
        }
      ]
    },
    {
      "cell_type": "code",
      "metadata": {
        "id": "8_1rrUFdxcjo"
      },
      "source": [
        "corr_weight = 0.5\n",
        "dist_weight = 1 - corr_weight"
      ],
      "execution_count": null,
      "outputs": []
    },
    {
      "cell_type": "code",
      "metadata": {
        "colab": {
          "base_uri": "https://localhost:8080/"
        },
        "id": "lb3KHrLGh67K",
        "outputId": "9a39587f-a232-44a0-f194-652e1e90be9e"
      },
      "source": [
        "#Top 5 highest Composite Score for each Trial Store based on TOT_SALES\n",
        "grouped_comparison_table1 = compare_metrics_table1.groupby([\"Trial_Str\", \"Control_Str\"]).mean().reset_index()\n",
        "grouped_comparison_table1[\"CompScore\"] = (corr_weight * grouped_comparison_table1[\"Corr_Score\"]) + (dist_weight * grouped_comparison_table1[\"magnitude\"])\n",
        "for trial_num in compare_metrics_table1[\"Trial_Str\"].unique():\n",
        "    print(grouped_comparison_table1[grouped_comparison_table1[\"Trial_Str\"] == trial_num].sort_values(ascending=False, by=\"CompScore\").head(), '\\n')"
      ],
      "execution_count": null,
      "outputs": [
        {
          "output_type": "stream",
          "text": [
            "     Trial_Str  Control_Str  Corr_Score  magnitude  CompScore\n",
            "218         77          233         1.0   0.986477   0.993238\n",
            "239         77          255         1.0   0.979479   0.989739\n",
            "177         77          188         1.0   0.977663   0.988831\n",
            "49          77           53         1.0   0.976678   0.988339\n",
            "120         77          131         1.0   0.976267   0.988134 \n",
            "\n",
            "     Trial_Str  Control_Str  Corr_Score  magnitude  CompScore\n",
            "356         86          109         1.0   0.966783   0.983391\n",
            "401         86          155         1.0   0.965876   0.982938\n",
            "464         86          222         1.0   0.962280   0.981140\n",
            "467         86          225         1.0   0.960512   0.980256\n",
            "471         86          229         1.0   0.951704   0.975852 \n",
            "\n",
            "     Trial_Str  Control_Str  Corr_Score  magnitude  CompScore\n",
            "551         88           40         1.0   0.941165   0.970582\n",
            "538         88           26         1.0   0.904377   0.952189\n",
            "582         88           72         1.0   0.903800   0.951900\n",
            "517         88            4         1.0   0.903466   0.951733\n",
            "568         88           58         1.0   0.891678   0.945839 \n",
            "\n"
          ],
          "name": "stdout"
        }
      ]
    },
    {
      "cell_type": "markdown",
      "metadata": {
        "id": "7uyVR0tviLAD"
      },
      "source": [
        "For store 77 >> 233\n",
        "For store 86 >> 109\n",
        "For store 88 >> 40"
      ]
    },
    {
      "cell_type": "markdown",
      "metadata": {
        "id": "2kw59cF2UVvz"
      },
      "source": [
        "# GET Trial Store's Data"
      ]
    },
    {
      "cell_type": "code",
      "metadata": {
        "id": "YBP9BEemQN9O"
      },
      "source": [
        "trial1=storeCompare.loc[(storeCompare['STORE_NBR']==77),:]\n",
        "trial1.name='Trial Store #77'\n",
        "trial2=storeCompare.loc[(storeCompare['STORE_NBR']==86),:]\n",
        "trial2.name='Trial Store #86'\n",
        "trial3=storeCompare.loc[(storeCompare['STORE_NBR']==88),:]\n",
        "trial3.name='Trial Store #88'"
      ],
      "execution_count": null,
      "outputs": []
    },
    {
      "cell_type": "markdown",
      "metadata": {
        "id": "gqnD66pMQGct"
      },
      "source": [
        "# Visualization"
      ]
    },
    {
      "cell_type": "markdown",
      "metadata": {
        "id": "1h8_V2InHR6m"
      },
      "source": [
        "## Select Control Store\n",
        "- pre trial stores should have full 12 month obervation"
      ]
    },
    {
      "cell_type": "markdown",
      "metadata": {
        "id": "gcfuAl06Kf89"
      },
      "source": [
        "### Calculate Correalation"
      ]
    },
    {
      "cell_type": "code",
      "metadata": {
        "id": "sBjsejMWIavk"
      },
      "source": [
        "def cal_corr(i,measure):\n",
        "    corrTable = pd.DataFrame( columns = ['Trial Store','Comparison Store', 'Measure', 'Correlation'])\n",
        "    # for i in trial_num:\n",
        "    trial_store_measure = preTrial.loc[preTrial.STORE_NBR == i, measure]\n",
        "    for j in comparison_stores_num:\n",
        "            comparison_store_measure = preTrial.loc[preTrial.STORE_NBR == j, measure]\n",
        "            corr = np.corrcoef(trial_store_measure, comparison_store_measure)[0][1]\n",
        "            corrTable = corrTable.append({\n",
        "                'Trial Store': i, \n",
        "                'Comparison Store': j, \n",
        "                'Measure': measure, \n",
        "                'Correlation': corr}, ignore_index=True)\n",
        "    return corrTable.sort_values(by=['Correlation'],ascending=False)"
      ],
      "execution_count": null,
      "outputs": []
    },
    {
      "cell_type": "markdown",
      "metadata": {
        "id": "ApP28t97QaLk"
      },
      "source": [
        "### Calculate Magnitude Distance"
      ]
    },
    {
      "cell_type": "code",
      "metadata": {
        "id": "r85Z6UK6RcpK"
      },
      "source": [
        "yearmonth = preTrial.YEARMONTH.unique()"
      ],
      "execution_count": null,
      "outputs": []
    },
    {
      "cell_type": "code",
      "metadata": {
        "id": "zfKqwDqJQhUx"
      },
      "source": [
        "def calc_distance(i,measure):\n",
        "    distanceTable = pd.DataFrame( columns = ['Trial Store','Comparison Store', 'Year Month', 'Measure', 'Distance'])\n",
        "\n",
        "    for j in comparison_stores_num:\n",
        "            for month in yearmonth:\n",
        "                trial_store_measures = preTrial.loc[ (preTrial.STORE_NBR == i) &  (preTrial.YEARMONTH == month), measure].values[0]\n",
        "                comparison_store_measures = preTrial.loc[ (preTrial.STORE_NBR == j) & (preTrial.YEARMONTH == month), measure].values[0]\n",
        "                distance = trial_store_measures - comparison_store_measures\n",
        "                distanceTable = distanceTable.append({\n",
        "                    'Trial Store': i, \n",
        "                    'Comparison Store': j, \n",
        "                    'Year Month': month,\n",
        "                    'Measure' : measure,\n",
        "                    'Distance' : abs(distance)}, ignore_index = True )\n",
        "    return distanceTable.sort_values(by=['Distance'],ascending=False)"
      ],
      "execution_count": null,
      "outputs": []
    },
    {
      "cell_type": "markdown",
      "metadata": {
        "id": "mwhLGatgQAmx"
      },
      "source": [
        "### Get overall Correlation Score"
      ]
    },
    {
      "cell_type": "code",
      "metadata": {
        "colab": {
          "base_uri": "https://localhost:8080/",
          "height": 312
        },
        "id": "EI_DWpCTQI5e",
        "outputId": "e6edc38c-7610-4bb3-f389-40c4089f81b7"
      },
      "source": [
        "preTrial_store77 = preTrial[ preTrial.STORE_NBR == 77]\n",
        "preTrial_store233 = preTrial[ preTrial.STORE_NBR == 233]\n",
        "preTrial_other = preTrial[ preTrial.STORE_NBR != 77]\n",
        "\n",
        "ax = plt.subplot()\n",
        "sns.lineplot(x = 'YEARMONTH', y = 'nCustomers' , data = preTrial_store77, ax = ax)\n",
        "sns.lineplot(x = 'YEARMONTH', y = 'nCustomers' , data = preTrial_store233, ax = ax)\n",
        "sns.lineplot(x = 'YEARMONTH', y = 'nCustomers' , data = preTrial_other, estimator= np.mean,ax = ax)\n",
        "ax.set_title('Number of Customers during pretrial period ')\n",
        "ax.set_xlabel('Time')\n",
        "ax.set_ylabel('Number of Customers')\n",
        "ax.legend(['store 77', 'comparison store', 'other stores'])"
      ],
      "execution_count": null,
      "outputs": [
        {
          "output_type": "execute_result",
          "data": {
            "text/plain": [
              "<matplotlib.legend.Legend at 0x7fe1fcbd2518>"
            ]
          },
          "metadata": {
            "tags": []
          },
          "execution_count": 75
        },
        {
          "output_type": "display_data",
          "data": {
            "image/png": "[encoded data removed]",
            "text/plain": [
              "<Figure size 432x288 with 1 Axes>"
            ]
          },
          "metadata": {
            "tags": [],
            "needs_background": "light"
          }
        }
      ]
    },
    {
      "cell_type": "code",
      "metadata": {
        "colab": {
          "base_uri": "https://localhost:8080/"
        },
        "id": "Idj3rddAw8Jw",
        "outputId": "66ba8eda-0144-42bc-cc5b-07f888743fe8"
      },
      "source": [
        "preTrial_store77.columns"
      ],
      "execution_count": null,
      "outputs": [
        {
          "output_type": "execute_result",
          "data": {
            "text/plain": [
              "Index(['STORE_NBR', 'YEARMONTH', 'TOT_SALES', 'nCustomers',\n",
              "       'nTxnPerCustomers'],\n",
              "      dtype='object')"
            ]
          },
          "metadata": {
            "tags": []
          },
          "execution_count": 76
        }
      ]
    },
    {
      "cell_type": "code",
      "metadata": {
        "colab": {
          "base_uri": "https://localhost:8080/",
          "height": 312
        },
        "id": "va7SYYkZTlSD",
        "outputId": "317ae004-f63c-416c-aacc-0a2453b9f575"
      },
      "source": [
        "preTrial_store77 = preTrial[ preTrial.STORE_NBR == 77]\n",
        "preTrial_store233 = preTrial[ preTrial.STORE_NBR == 233]\n",
        "preTrial_other = preTrial[ preTrial.STORE_NBR != 77]\n",
        "\n",
        "ax = plt.subplot()\n",
        "sns.lineplot(x = 'YEARMONTH', y = 'TOT_SALES' , data = preTrial_store77, ax = ax)\n",
        "sns.lineplot(x = 'YEARMONTH', y = 'TOT_SALES' , data = preTrial_store233, ax = ax)\n",
        "sns.lineplot(x = 'YEARMONTH', y = 'TOT_SALES' , data = preTrial_other, estimator= np.mean,ax = ax)\n",
        "ax.set_title('Total sales during pretrial period ')\n",
        "ax.set_xlabel('Time')\n",
        "ax.set_ylabel('Total Sales')\n",
        "ax.legend(['store 77', 'comparison store', 'other stores'])"
      ],
      "execution_count": null,
      "outputs": [
        {
          "output_type": "execute_result",
          "data": {
            "text/plain": [
              "<matplotlib.legend.Legend at 0x7fe1fdd36780>"
            ]
          },
          "metadata": {
            "tags": []
          },
          "execution_count": 77
        },
        {
          "output_type": "display_data",
          "data": {
            "image/png": "[encoded data removed]",
            "text/plain": [
              "<Figure size 432x288 with 1 Axes>"
            ]
          },
          "metadata": {
            "tags": [],
            "needs_background": "light"
          }
        }
      ]
    },
    {
      "cell_type": "code",
      "metadata": {
        "colab": {
          "base_uri": "https://localhost:8080/",
          "height": 312
        },
        "id": "fv5SzEpfwr4A",
        "outputId": "361d08ef-be7c-4d29-a077-5be4a15ce1ab"
      },
      "source": [
        "preTrial_store77 = preTrial[ preTrial.STORE_NBR == 77]\n",
        "preTrial_store233 = preTrial[ preTrial.STORE_NBR == 233]\n",
        "preTrial_other = preTrial[ preTrial.STORE_NBR != 77]\n",
        "\n",
        "ax = plt.subplot()\n",
        "sns.lineplot(x = 'YEARMONTH', y = 'nTxnPerCustomers' , data = preTrial_store77, ax = ax)\n",
        "sns.lineplot(x = 'YEARMONTH', y = 'nTxnPerCustomers' , data = preTrial_store233, ax = ax)\n",
        "sns.lineplot(x = 'YEARMONTH', y = 'nTxnPerCustomers' , data = preTrial_other, estimator= np.mean,ax = ax)\n",
        "ax.set_title('Total sales during pretrial period ')\n",
        "ax.set_xlabel('Time')\n",
        "ax.set_ylabel('Total Sales')\n",
        "ax.legend(['store 77', 'comparison store', 'other stores'])"
      ],
      "execution_count": null,
      "outputs": [
        {
          "output_type": "execute_result",
          "data": {
            "text/plain": [
              "<matplotlib.legend.Legend at 0x7fe1fd9c0240>"
            ]
          },
          "metadata": {
            "tags": []
          },
          "execution_count": 78
        },
        {
          "output_type": "display_data",
          "data": {
            "image/png": "[encoded data removed]",
            "text/plain": [
              "<Figure size 432x288 with 1 Axes>"
            ]
          },
          "metadata": {
            "tags": [],
            "needs_background": "light"
          }
        }
      ]
    },
    {
      "cell_type": "code",
      "metadata": {
        "colab": {
          "base_uri": "https://localhost:8080/",
          "height": 296
        },
        "id": "zmTFhnehwqPI",
        "outputId": "75f0fc14-1f66-44b7-b395-24526fc403ae"
      },
      "source": [
        "ax = plt.subplot()\n",
        "sns.lineplot(x = 'YEARMONTH', y = 'nCustomers' , data = preTrial_store77, ax = ax)"
      ],
      "execution_count": null,
      "outputs": [
        {
          "output_type": "execute_result",
          "data": {
            "text/plain": [
              "<matplotlib.axes._subplots.AxesSubplot at 0x7fe1fbbafeb8>"
            ]
          },
          "metadata": {
            "tags": []
          },
          "execution_count": 79
        },
        {
          "output_type": "display_data",
          "data": {
            "image/png": "[encoded data removed]",
            "text/plain": [
              "<Figure size 432x288 with 1 Axes>"
            ]
          },
          "metadata": {
            "tags": [],
            "needs_background": "light"
          }
        }
      ]
    },
    {
      "cell_type": "code",
      "metadata": {
        "colab": {
          "base_uri": "https://localhost:8080/",
          "height": 312
        },
        "id": "vB5f-xW2UpqY",
        "outputId": "b3610239-f29c-43e6-a5e6-bf139da74053"
      },
      "source": [
        "preTrial_store86 = preTrial[ preTrial.STORE_NBR == 86]\n",
        "preTrial_store109 = preTrial[ preTrial.STORE_NBR == 109]\n",
        "preTrial_other = preTrial[ preTrial.STORE_NBR != 86]\n",
        "\n",
        "ax = plt.subplot()\n",
        "sns.lineplot(x = 'YEARMONTH', y = 'nCustomers' , data = preTrial_store86, ax = ax)\n",
        "sns.lineplot(x = 'YEARMONTH', y = 'nCustomers' , data = preTrial_store109, ax = ax)\n",
        "sns.lineplot(x = 'YEARMONTH', y = 'nCustomers' , data = preTrial_other, estimator= np.mean, ax = ax)\n",
        "ax.set_title('Total number of customers during pretrial period')\n",
        "ax.set_xlabel('Time')\n",
        "ax.set_ylabel('Number of customers')\n",
        "ax.legend(['store 86', 'comparison store', 'other stores'])"
      ],
      "execution_count": null,
      "outputs": [
        {
          "output_type": "execute_result",
          "data": {
            "text/plain": [
              "<matplotlib.legend.Legend at 0x7fe1fd84b7b8>"
            ]
          },
          "metadata": {
            "tags": []
          },
          "execution_count": 80
        },
        {
          "output_type": "display_data",
          "data": {
            "image/png": "[encoded data removed]",
            "text/plain": [
              "<Figure size 432x288 with 1 Axes>"
            ]
          },
          "metadata": {
            "tags": [],
            "needs_background": "light"
          }
        }
      ]
    },
    {
      "cell_type": "code",
      "metadata": {
        "id": "USXRMw97wpeC"
      },
      "source": [
        ""
      ],
      "execution_count": null,
      "outputs": []
    },
    {
      "cell_type": "code",
      "metadata": {
        "colab": {
          "base_uri": "https://localhost:8080/",
          "height": 312
        },
        "id": "NFxQU9nwU2NF",
        "outputId": "a6c9ec56-4b01-4e54-cf90-f2abd620931c"
      },
      "source": [
        "preTrial_store86 = preTrial[ preTrial.STORE_NBR == 86]\n",
        "preTrial_store109 = preTrial[ preTrial.STORE_NBR == 109]\n",
        "preTrial_other = preTrial[ preTrial.STORE_NBR != 86]\n",
        "\n",
        "ax = plt.subplot()\n",
        "sns.lineplot(x = 'YEARMONTH', y = 'nCustomers' , data = preTrial_store86, ax = ax)\n",
        "sns.lineplot(x = 'YEARMONTH', y = 'nCustomers' , data = preTrial_store109, ax = ax)\n",
        "sns.lineplot(x = 'YEARMONTH', y = 'nCustomers' , data = preTrial_other, estimator= np.mean,ax = ax)\n",
        "ax.set_title('Number of Customers during pretrial period ')\n",
        "ax.set_xlabel('Time')\n",
        "ax.set_ylabel('Number of Customers')\n",
        "ax.legend(['store 86', 'comparison store', 'other stores'])"
      ],
      "execution_count": null,
      "outputs": [
        {
          "output_type": "execute_result",
          "data": {
            "text/plain": [
              "<matplotlib.legend.Legend at 0x7fe1fd816b00>"
            ]
          },
          "metadata": {
            "tags": []
          },
          "execution_count": 81
        },
        {
          "output_type": "display_data",
          "data": {
            "image/png": "[encoded data removed]",
            "text/plain": [
              "<Figure size 432x288 with 1 Axes>"
            ]
          },
          "metadata": {
            "tags": [],
            "needs_background": "light"
          }
        }
      ]
    },
    {
      "cell_type": "markdown",
      "metadata": {
        "id": "xLCG-nPuhjdZ"
      },
      "source": [
        "# STORE 88"
      ]
    },
    {
      "cell_type": "code",
      "metadata": {
        "colab": {
          "base_uri": "https://localhost:8080/",
          "height": 312
        },
        "id": "mTqsiS9-hljs",
        "outputId": "c1fc0419-1007-4c06-86fc-e348b1b4161a"
      },
      "source": [
        "preTrial_store88 = preTrial[ preTrial.STORE_NBR == 88]\n",
        "preTrial_store40 = preTrial[ preTrial.STORE_NBR == 40]\n",
        "preTrial_other = preTrial[ preTrial.STORE_NBR != 88]\n",
        "\n",
        "ax = plt.subplot()\n",
        "sns.lineplot(x = 'YEARMONTH', y = 'nCustomers' , data = preTrial_store88, ax = ax)\n",
        "sns.lineplot(x = 'YEARMONTH', y = 'nCustomers' , data = preTrial_store40, ax = ax)\n",
        "sns.lineplot(x = 'YEARMONTH', y = 'nCustomers' , data = preTrial_other, estimator= np.mean, ax = ax)\n",
        "ax.set_title('Total number of customers during pretrial period')\n",
        "ax.set_xlabel('Time')\n",
        "ax.set_ylabel('Number of customers')\n",
        "ax.legend(['store 88', 'comparison store', 'other stores'])"
      ],
      "execution_count": null,
      "outputs": [
        {
          "output_type": "execute_result",
          "data": {
            "text/plain": [
              "<matplotlib.legend.Legend at 0x7fe1fd7955f8>"
            ]
          },
          "metadata": {
            "tags": []
          },
          "execution_count": 82
        },
        {
          "output_type": "display_data",
          "data": {
            "image/png": "[encoded data removed]",
            "text/plain": [
              "<Figure size 432x288 with 1 Axes>"
            ]
          },
          "metadata": {
            "tags": [],
            "needs_background": "light"
          }
        }
      ]
    }
  ]
}